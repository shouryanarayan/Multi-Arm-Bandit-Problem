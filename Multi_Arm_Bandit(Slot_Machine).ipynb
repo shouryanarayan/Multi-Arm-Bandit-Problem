{
  "nbformat": 4,
  "nbformat_minor": 0,
  "metadata": {
    "colab": {
      "name": "Multi-Arm-Bandit(Slot Machine).ipynb",
      "provenance": []
    },
    "kernelspec": {
      "name": "python3",
      "display_name": "Python 3"
    }
  },
  "cells": [
    {
      "cell_type": "markdown",
      "metadata": {
        "id": "wQjHcM5wql2L"
      },
      "source": [
        "Consider a 5-armed stochastic bandit problem with mean rewards of (0.1, 0.1, 0 1, 0.1, 0.9).The arms are Bernoulli."
      ]
    },
    {
      "cell_type": "code",
      "metadata": {
        "id": "Lq7IxmIALJDQ"
      },
      "source": [
        "arm_index=[0,1,2,3,4]\n",
        "mean_values = [0.1, 0.1, 0.1, 0.1, 0.9]"
      ],
      "execution_count": null,
      "outputs": []
    },
    {
      "cell_type": "code",
      "metadata": {
        "id": "nlq8uxhsLJO3"
      },
      "source": [
        "import random\n",
        "class BernoulliArm():\n",
        "    def __init__(self, p):\n",
        "        self.p = p\n",
        "\n",
        "    def draw(self):\n",
        "        if random.random() > self.p:\n",
        "            return 0.0 #,self.p;\n",
        "        else:\n",
        "            return 1.0 #,self.p;\n"
      ],
      "execution_count": null,
      "outputs": []
    },
    {
      "cell_type": "code",
      "metadata": {
        "id": "qnURfF6aP9W7"
      },
      "source": [
        "import os\n",
        "import sys\n",
        "\n",
        "import matplotlib.pyplot as plt\n",
        "import numpy as np\n",
        "import seaborn as sns"
      ],
      "execution_count": null,
      "outputs": []
    },
    {
      "cell_type": "markdown",
      "metadata": {
        "id": "lNz9m6qKva1A"
      },
      "source": [
        "##Epsilon Greedy Algorithm"
      ]
    },
    {
      "cell_type": "code",
      "metadata": {
        "id": "Y__Z9zSc_lY7"
      },
      "source": [
        "#Epsilon Greedy class\n",
        "class Epsilon_Greedy_Algorithm:\n",
        "    def __init__(self, epsilon, counts=None, values=None):\n",
        "        self.epsilon_values = epsilon\n",
        "        self.counts_of_pull = counts\n",
        "        self.mean_values = values\n",
        "\n",
        "    def initialize(self, number_of_arms):\n",
        "        self.counts_of_pull = np.zeros(number_of_arms, dtype=int)\n",
        "        self.mean_values = np.zeros(number_of_arms, dtype=float)\n",
        "\n",
        "    def selecting_arm(self):\n",
        "        z = np.random.random()\n",
        "        if z > self.epsilon_values:\n",
        "            # Picking best arm\n",
        "            return np.argmax(self.mean_values)\n",
        "        # Randomly pick any arm with prob 1 / len(self.counts)\n",
        "        return np.random.randint(0, len(self.mean_values))\n",
        "\n",
        "    def selecting_max_reward_arm(self):\n",
        "        return np.argmax(self.mean_values)\n",
        "\n",
        "    def selecting_max_reward(self):\n",
        "        # Picking best arm reward\n",
        "        return np.max(self.mean_values)\n",
        "\n",
        "    def update_values(self, arm_chosen, reward):\n",
        "        # Increment chosen arm's count by one\n",
        "        self.counts_of_pull[arm_chosen] += 1\n",
        "        n = self.counts_of_pull[arm_chosen]\n",
        "\n",
        "        # Recompute the estimated value of chosen arm using new reward\n",
        "        value = self.mean_values[arm_chosen]\n",
        "        new_value = value * ((n - 1) / n) + reward / n\n",
        "        self.mean_values[arm_chosen] = new_value\n",
        "    "
      ],
      "execution_count": null,
      "outputs": []
    },
    {
      "cell_type": "markdown",
      "metadata": {
        "id": "CiYUvL3uvksw"
      },
      "source": [
        "###Function for testing Epsilon Greedy Algorithm"
      ]
    },
    {
      "cell_type": "code",
      "metadata": {
        "id": "gKszSHVi_sTd"
      },
      "source": [
        "def test_algorithm(algo, arms, num_simulations, horizon):\n",
        "    # Initialize rewards and chosen_arms with zero 2d arrays\n",
        "    chosen_arms = np.zeros((num_simulations, horizon))\n",
        "    rewards = np.zeros((num_simulations, horizon))\n",
        "    chosen_max_reward_arms= np.zeros((num_simulations, horizon))\n",
        "    regrets= np.zeros((num_simulations, horizon))\n",
        "    prob_of_optimal_arm= np.zeros((num_simulations, horizon))\n",
        "\n",
        "    # Loop over all simulations\n",
        "    for sim in range(num_simulations):\n",
        "        # Re-initialize the algorithm counts and mean_values arrays\n",
        "        algo.initialize(len(arms))\n",
        "\n",
        "        count=0\n",
        "        count_best_arm=0\n",
        "\n",
        "        # Loop over all time horizon #No. of times the arm is to be pulled in a simulation\n",
        "        for t in range(horizon):\n",
        "            # Select arm based on the algorithm chosen\n",
        "            arm_chosen = algo.selecting_arm()\n",
        "            chosen_arms[sim, t] = arm_chosen\n",
        "\n",
        "            count +=1\n",
        "\n",
        "            #selecting maximum reward arm\n",
        "            chosen_max_reward_arm= algo.selecting_max_reward_arm()\n",
        "            chosen_max_reward_arms[sim,t]=chosen_max_reward_arm\n",
        "\n",
        "            if arm_chosen== chosen_max_reward_arm:\n",
        "               count_best_arm +=1\n",
        "\n",
        "            probability_optimal_arm= count_best_arm / count  \n",
        "            prob_of_optimal_arm[sim, t] = probability_optimal_arm\n",
        "\n",
        "            # Draw from the Bernoulli distribution to get rewards\n",
        "            reward = arms[arm_chosen].draw()\n",
        "            rewards[sim, t] = reward\n",
        "\n",
        "            #Computing regret\n",
        "            a= algo.selecting_max_reward()\n",
        "          \n",
        "            # Update the algorithms' count and estimated values\n",
        "            algo.update_values(arm_chosen, reward)\n",
        "\n",
        "            b= mean_values[arm_chosen] \n",
        "            \n",
        "            regret= a-b\n",
        "            regrets[sim,t]= regret\n",
        "\n",
        "    # Average rewards,regret across all sims and compute cumulative rewards, cumulative regret\n",
        "    average_rewards = np.mean(rewards, axis=0)  #Axis=0 is across columns(for particular time in every simulation) calculate mean. Output is list giving mean reward(across sims) at every time horizon \n",
        "    cumulative_rewards = np.cumsum(average_rewards) #Output is list giving the cumulative sum of rewards at every time horizon.\n",
        "    \n",
        "    average_regrets = np.mean(regrets, axis=0)\n",
        "    cumulative_regrets = np.cumsum(average_regrets)\n",
        "    \n",
        "    #Probability of selecting the best arm\n",
        "    prob_of_optimal_arm= np.mean(prob_of_optimal_arm, axis=0)\n",
        "\n",
        "    return chosen_arms, average_rewards, cumulative_rewards,average_regrets, cumulative_regrets, prob_of_optimal_arm"
      ],
      "execution_count": null,
      "outputs": []
    },
    {
      "cell_type": "markdown",
      "metadata": {
        "id": "NAlCCip2wbsn"
      },
      "source": [
        "#UCB Algorithm"
      ]
    },
    {
      "cell_type": "code",
      "metadata": {
        "id": "Xa_BjSfqwbsr"
      },
      "source": [
        "#Upper confidence Bound class\n",
        "import math\n",
        "class UCB:\n",
        "    def __init__(self, counts=None, values=None):\n",
        "        self.counts_of_pull = counts\n",
        "        self.mean_values = values\n",
        "\n",
        "    def initialize(self,number_of_arms):\n",
        "        self.counts_of_pull = np.zeros(number_of_arms, dtype=int)\n",
        "        self.mean_values = np.zeros(number_of_arms, dtype=float)\n",
        " \n",
        "    # UCB arm selection based on max of UCB reward of each arm\n",
        "    def selecting_arm(self):\n",
        "        number_of_arms = len(self.counts_of_pull)\n",
        "        for arm in range(number_of_arms):\n",
        "            if self.counts_of_pull[arm] == 0:\n",
        "                return arm\n",
        "    \n",
        "        ucb_values = [0.0 for arm in range(number_of_arms)]\n",
        "        total_counts = sum(self.counts_of_pull)\n",
        "        \n",
        "        for arm in range(number_of_arms):\n",
        "            bonus = math.sqrt((2 * math.log(total_counts)) / float(self.counts_of_pull[arm]))\n",
        "            ucb_values[arm] = self.mean_values[arm] + bonus\n",
        "        return ucb_values.index(max(ucb_values))\n",
        "\n",
        "    def selecting_max_reward_arm(self):\n",
        "        return np.argmax(self.mean_values)\n",
        "\n",
        "    def selecting_max_reward(self):\n",
        "        # Pick the best arm\n",
        "        return np.max(self.mean_values)\n",
        "\n",
        "    def update_values(self, arm_chosen, reward):\n",
        "        # Increment chosen arm's count by one\n",
        "        self.counts_of_pull[arm_chosen] += 1\n",
        "        n = self.counts_of_pull[arm_chosen]\n",
        "\n",
        "        # Recompute the estimated value of chosen arm using new reward\n",
        "        value = self.mean_values[arm_chosen]\n",
        "        new_value = value * ((n - 1) / n) + reward / n\n",
        "        self.mean_values[arm_chosen] = new_value\n",
        "    "
      ],
      "execution_count": null,
      "outputs": []
    },
    {
      "cell_type": "markdown",
      "metadata": {
        "id": "GxhkZKYEw_nH"
      },
      "source": [
        "##Thompson Sampling Algorithm"
      ]
    },
    {
      "cell_type": "code",
      "metadata": {
        "id": "8RvbNaMGw_nK"
      },
      "source": [
        "from scipy.stats import beta\n",
        "#Thompson Sampling Algorithm class\n",
        "class Thompson_sampling:\n",
        "    def __init__(self, counts=None, values=None):\n",
        "        self.counts_of_pull = counts\n",
        "        self.mean_values = values\n",
        "\n",
        "    def initialize(self,number_of_arms):\n",
        "        self.counts_of_pull = np.zeros(number_of_arms, dtype=int)\n",
        "        self.mean_values = np.zeros(number_of_arms, dtype=float)\n",
        " \n",
        "     # Uniform distribution of prior beta (A,B)\n",
        "        self.a = [1 for arm in range(number_of_arms)]\n",
        "        self.b = [1 for arm in range(number_of_arms)]\n",
        "        return\n",
        "    \n",
        "    # Thompson Sampling selection of arm for each round\n",
        "    def selecting_arm(self):\n",
        "        number_of_arms = len(self.counts_of_pull)\n",
        "        \n",
        "        # Pair up all beta params of a and b for each arm\n",
        "        beta_params = zip(self.a, self.b)\n",
        "        \n",
        "        # Perform random draw for all arms based on their params (a,b)\n",
        "        all_draws = [beta.rvs(i[0], i[1], size = 1) for i in beta_params]\n",
        "        \n",
        "        # return index of arm with the highest draw\n",
        "        return all_draws.index(max(all_draws))\n",
        "\n",
        "    def selecting_max_reward_arm(self):\n",
        "        return np.argmax(self.mean_values)\n",
        "\n",
        "    def selecting_max_reward(self):\n",
        "        # Pick the best arm\n",
        "        return np.max(self.mean_values) \n",
        "\n",
        "    def update_values(self, arm_chosen, reward):\n",
        "        # Increment chosen arm's count by one\n",
        "        self.counts_of_pull[arm_chosen] += 1\n",
        "        n = self.counts_of_pull[arm_chosen]\n",
        "\n",
        "        # Recompute the estimated value of chosen arm using new reward\n",
        "        value = self.mean_values[arm_chosen]\n",
        "        new_value = value * ((n - 1) / n) + reward / n\n",
        "        self.mean_values[arm_chosen] = new_value\n",
        "        \n",
        "         # Update a and b\n",
        "        # a is based on total counts of rewards of arm\n",
        "        self.a[arm_chosen] = self.a[arm_chosen] + reward\n",
        "        \n",
        "        # b is based on total counts of failed rewards on arm\n",
        "        self.b[arm_chosen] = self.b[arm_chosen] + (1-reward)\n",
        "        \n",
        "        return"
      ],
      "execution_count": null,
      "outputs": []
    },
    {
      "cell_type": "markdown",
      "metadata": {
        "id": "WPm2ao_1x1HQ"
      },
      "source": [
        "Executing Epsilon Greedy algorithm defined above"
      ]
    },
    {
      "cell_type": "code",
      "metadata": {
        "id": "I30sKXfT_0wA",
        "colab": {
          "base_uri": "https://localhost:8080/"
        },
        "outputId": "121cd6db-ca82-40ee-b9d7-eb8b80ebf435"
      },
      "source": [
        "np.random.seed(1)\n",
        "number_of_arms = len(mean_values)\n",
        "\n",
        "# Shuffle the arms\n",
        "np.random.shuffle(mean_values)\n",
        "print(mean_values)\n",
        "# Each arm will follow and Bernoulli distribution\n",
        "arms = list(map(lambda mu: BernoulliArm(mu), mean_values))\n",
        "# Get the index of the best arm to test if algorithm will be able to learn that\n",
        "best_arm_index = np.argmax(mean_values)\n",
        "# Define epsilon value to check the performance of the algorithm using each one\n",
        "epsilon = [0.1, 0.2, 0.3, 0.4, 0.5]\n",
        "epsilon"
      ],
      "execution_count": null,
      "outputs": [
        {
          "output_type": "stream",
          "text": [
            "[0.1, 0.1, 0.9, 0.1, 0.1]\n"
          ],
          "name": "stdout"
        },
        {
          "output_type": "execute_result",
          "data": {
            "text/plain": [
              "[0.1, 0.2, 0.3, 0.4, 0.5]"
            ]
          },
          "metadata": {
            "tags": []
          },
          "execution_count": 8
        }
      ]
    },
    {
      "cell_type": "code",
      "metadata": {
        "id": "FJkG6Z5SCtI-",
        "colab": {
          "base_uri": "https://localhost:8080/"
        },
        "outputId": "6e1c736f-e1e7-42b7-a205-25cf588ccfb9"
      },
      "source": [
        "results_epsilon_greedy=[]\n",
        "for epsilon in [0.1, 0.2, 0.3, 0.4, 0.5]:\n",
        "    algo = Epsilon_Greedy_Algorithm(epsilon, [], [])\n",
        "    algo.initialize(number_of_arms)\n",
        "    results = test_algorithm(algo, arms, 100, 250)  #100 is no. of simulations and 250 is times the arm is pulled in one simulation\n",
        "    results_epsilon_greedy.append(results[4]) #4 is for extracting cumulative regret\n",
        "    \n",
        "results_epsilon_greedy  "
      ],
      "execution_count": null,
      "outputs": [
        {
          "output_type": "execute_result",
          "data": {
            "text/plain": [
              "[array([-1.08000000e-01, -1.02000000e-01, -7.80000000e-02, -8.13333333e-02,\n",
              "        -8.13333333e-02, -8.53333333e-02, -7.01666667e-02, -9.08095238e-02,\n",
              "        -6.13452381e-02, -3.20634921e-02, -2.64246032e-02, -6.73701299e-03,\n",
              "         9.75216450e-03, -2.14465534e-02,  6.48781774e-03,  2.45687368e-02,\n",
              "         4.82239011e-02,  7.33188282e-02,  1.09108320e-01,  1.41531142e-01,\n",
              "         1.70504835e-01,  1.95430234e-01,  2.19303661e-01,  2.61079567e-01,\n",
              "         3.06771417e-01,  3.34043597e-01,  3.96709166e-01,  4.21970502e-01,\n",
              "         4.34093999e-01,  4.70386921e-01,  4.81362752e-01,  5.06277673e-01,\n",
              "         5.27525519e-01,  5.64450917e-01,  6.18620781e-01,  6.47365400e-01,\n",
              "         6.74983508e-01,  7.34588315e-01,  7.68418849e-01,  7.80085433e-01,\n",
              "         8.17860067e-01,  8.50387066e-01,  8.85902426e-01,  9.34621521e-01,\n",
              "         9.64981784e-01,  1.00349693e+00,  1.02971936e+00,  1.06066157e+00,\n",
              "         1.11859862e+00,  1.14577846e+00,  1.15765417e+00,  1.21230068e+00,\n",
              "         1.26828671e+00,  1.29942602e+00,  1.36477801e+00,  1.42890904e+00,\n",
              "         1.51446304e+00,  1.55939557e+00,  1.58887570e+00,  1.65993439e+00,\n",
              "         1.69053003e+00,  1.72201924e+00,  1.77725098e+00,  1.80896193e+00,\n",
              "         1.86565701e+00,  1.95615492e+00,  2.03131783e+00,  2.06679592e+00,\n",
              "         2.11108624e+00,  2.15449682e+00,  2.20677254e+00,  2.27414694e+00,\n",
              "         2.31645951e+00,  2.38425339e+00,  2.45584788e+00,  2.51133245e+00,\n",
              "         2.58239246e+00,  2.61190569e+00,  2.66181833e+00,  2.71294169e+00,\n",
              "         2.76135370e+00,  2.85755026e+00,  2.95298107e+00,  3.04206986e+00,\n",
              "         3.13197111e+00,  3.16419315e+00,  3.22307512e+00,  3.26278343e+00,\n",
              "         3.34498858e+00,  3.41033223e+00,  3.47647187e+00,  3.54141092e+00,\n",
              "         3.61537040e+00,  3.68831509e+00,  3.73599226e+00,  3.75938494e+00,\n",
              "         3.82337897e+00,  3.87493822e+00,  3.93399628e+00,  3.99314271e+00,\n",
              "         4.03091493e+00,  4.10179811e+00,  4.14122655e+00,  4.22753633e+00,\n",
              "         4.29802316e+00,  4.36910767e+00,  4.43231066e+00,  4.47100364e+00,\n",
              "         4.53495682e+00,  4.60691047e+00,  4.65352911e+00,  4.72330865e+00,\n",
              "         4.80046674e+00,  4.89216051e+00,  4.94344353e+00,  5.02773873e+00,\n",
              "         5.07370511e+00,  5.14280287e+00,  5.16451853e+00,  5.26705914e+00,\n",
              "         5.33821297e+00,  5.37749867e+00,  5.45651203e+00,  5.50138018e+00,\n",
              "         5.57924002e+00,  5.68068936e+00,  5.75034670e+00,  5.81319959e+00,\n",
              "         5.85972480e+00,  5.92194843e+00,  5.96116377e+00,  6.01679782e+00,\n",
              "         6.11958452e+00,  6.19787159e+00,  6.30024112e+00,  6.38676781e+00,\n",
              "         6.43373561e+00,  6.48841649e+00,  6.53702961e+00,  6.59367668e+00,\n",
              "         6.69087028e+00,  6.74778129e+00,  6.82081359e+00,  6.90901579e+00,\n",
              "         6.99794149e+00,  7.07834636e+00,  7.16596539e+00,  7.23702328e+00,\n",
              "         7.26822048e+00,  7.40308242e+00,  7.47351897e+00,  7.54352121e+00,\n",
              "         7.57391859e+00,  7.65348143e+00,  7.72488562e+00,  7.75596444e+00,\n",
              "         7.82071552e+00,  7.88486477e+00,  8.01205927e+00,  8.09820692e+00,\n",
              "         8.16077984e+00,  8.20003925e+00,  8.25548238e+00,  8.30288051e+00,\n",
              "         8.37275024e+00,  8.45073876e+00,  8.50463124e+00,  8.57445779e+00,\n",
              "         8.61207490e+00,  8.68933478e+00,  8.75902405e+00,  8.84487633e+00,\n",
              "         8.89746654e+00,  8.96611804e+00,  8.98710791e+00,  9.04812500e+00,\n",
              "         9.13262267e+00,  9.19320719e+00,  9.26200941e+00,  9.34680972e+00,\n",
              "         9.43201426e+00,  9.50086456e+00,  9.58783378e+00,  9.63384425e+00,\n",
              "         9.67153728e+00,  9.70928916e+00,  9.77113401e+00,  9.85047792e+00,\n",
              "         9.89755296e+00,  9.96131415e+00,  1.00486955e+01,  1.00877909e+01,\n",
              "         1.01467231e+01,  1.02231587e+01,  1.02843152e+01,  1.03618035e+01,\n",
              "         1.04154474e+01,  1.05165744e+01,  1.05776728e+01,  1.06457629e+01,\n",
              "         1.07057679e+01,  1.07496110e+01,  1.08025054e+01,  1.08491244e+01,\n",
              "         1.09131038e+01,  1.10018266e+01,  1.10751770e+01,  1.11250553e+01,\n",
              "         1.12149833e+01,  1.12974584e+01,  1.13241219e+01,  1.13998702e+01,\n",
              "         1.14675417e+01,  1.15426237e+01,  1.16098968e+01,  1.17090093e+01,\n",
              "         1.17999148e+01,  1.18509320e+01,  1.19021126e+01,  1.20173550e+01,\n",
              "         1.20930756e+01,  1.21530834e+01,  1.22607082e+01,  1.23355346e+01,\n",
              "         1.24024751e+01,  1.24773781e+01,  1.25441507e+01,  1.25790793e+01,\n",
              "         1.26375337e+01,  1.26797735e+01,  1.27298553e+01,  1.28036933e+01,\n",
              "         1.28773774e+01,  1.29430357e+01,  1.30405727e+01,  1.30740083e+01,\n",
              "         1.31393261e+01,  1.31722130e+01,  1.32049989e+01,  1.32376655e+01,\n",
              "         1.32860845e+01,  1.33265449e+01,  1.33827987e+01,  1.34390178e+01,\n",
              "         1.34870372e+01,  1.35911378e+01,  1.36633838e+01,  1.37115660e+01,\n",
              "         1.38001529e+01,  1.38487962e+01]),\n",
              " array([-1.64000000e-01, -1.26000000e-01, -1.26000000e-01, -8.23333333e-02,\n",
              "        -3.40000000e-02, -5.66666667e-03,  5.55000000e-02,  1.08761905e-01,\n",
              "         1.40988095e-01,  1.98825397e-01,  2.86642857e-01,  3.26248918e-01,\n",
              "         3.96534993e-01,  4.63709152e-01,  5.48975996e-01,  6.22770757e-01,\n",
              "         6.71535895e-01,  6.85869837e-01,  7.73483766e-01,  8.49145700e-01,\n",
              "         9.06287934e-01,  1.00190740e+00,  1.08712647e+00,  1.18917440e+00,\n",
              "         1.27336745e+00,  1.32521810e+00,  1.36582569e+00,  1.41394895e+00,\n",
              "         1.49648052e+00,  1.59310617e+00,  1.67719967e+00,  1.80411507e+00,\n",
              "         1.84358481e+00,  1.94343684e+00,  2.03845921e+00,  2.12315306e+00,\n",
              "         2.19412503e+00,  2.32805820e+00,  2.45151742e+00,  2.57478043e+00,\n",
              "         2.67038792e+00,  2.80359110e+00,  2.91690834e+00,  3.06102975e+00,\n",
              "         3.14247155e+00,  3.24590513e+00,  3.36188159e+00,  3.43613464e+00,\n",
              "         3.55649762e+00,  3.67348066e+00,  3.82443691e+00,  3.93045812e+00,\n",
              "         4.00390111e+00,  4.13233814e+00,  4.25297898e+00,  4.35749861e+00,\n",
              "         4.47973910e+00,  4.61421890e+00,  4.76404880e+00,  4.87765557e+00,\n",
              "         5.02715843e+00,  5.18241400e+00,  5.31480249e+00,  5.43861023e+00,\n",
              "         5.59372647e+00,  5.70701698e+00,  5.81155761e+00,  5.96639636e+00,\n",
              "         6.16198201e+00,  6.30305700e+00,  6.48399946e+00,  6.64239900e+00,\n",
              "         6.74142946e+00,  6.86401963e+00,  6.98643984e+00,  7.09493569e+00,\n",
              "         7.23421358e+00,  7.36469450e+00,  7.47116046e+00,  7.60924556e+00,\n",
              "         7.71561679e+00,  7.82189821e+00,  7.98872104e+00,  8.13321210e+00,\n",
              "         8.28469358e+00,  8.40437948e+00,  8.55102288e+00,  8.68039485e+00,\n",
              "         8.79414426e+00,  8.95328485e+00,  9.08138774e+00,  9.23397971e+00,\n",
              "         9.36165729e+00,  9.48049136e+00,  9.59181990e+00,  9.70134107e+00,\n",
              "         9.82733473e+00,  9.93720413e+00,  1.00719053e+01,  1.01736891e+01,\n",
              "         1.02597890e+01,  1.03296715e+01,  1.04477980e+01,  1.05742886e+01,\n",
              "         1.07170315e+01,  1.08430599e+01,  1.09773566e+01,  1.11037184e+01,\n",
              "         1.12464160e+01,  1.13098703e+01,  1.14761958e+01,  1.15871340e+01,\n",
              "         1.16986631e+01,  1.18258092e+01,  1.19779624e+01,  1.21696803e+01,\n",
              "         1.22896164e+01,  1.24257546e+01,  1.24896961e+01,  1.26099198e+01,\n",
              "         1.27131915e+01,  1.28170948e+01,  1.29683395e+01,  1.31038526e+01,\n",
              "         1.32392885e+01,  1.33115414e+01,  1.34388911e+01,  1.35180073e+01,\n",
              "         1.36623335e+01,  1.37517092e+01,  1.38890326e+01,  1.39862915e+01,\n",
              "         1.41150081e+01,  1.42195282e+01,  1.43637506e+01,  1.44352496e+01,\n",
              "         1.45864126e+01,  1.47211149e+01,  1.48638131e+01,  1.49744418e+01,\n",
              "         1.51573588e+01,  1.52760338e+01,  1.53939384e+01,  1.55438649e+01,\n",
              "         1.56539284e+01,  1.58038911e+01,  1.59937247e+01,  1.60792421e+01,\n",
              "         1.61728363e+01,  1.63063293e+01,  1.64799465e+01,  1.66219472e+01,\n",
              "         1.67676503e+01,  1.68992298e+01,  1.70389944e+01,  1.71395408e+01,\n",
              "         1.73204349e+01,  1.74534452e+01,  1.75462306e+01,  1.76949440e+01,\n",
              "         1.78597668e+01,  1.79357548e+01,  1.80759262e+01,  1.82153149e+01,\n",
              "         1.83139456e+01,  1.84531965e+01,  1.86247444e+01,  1.87562009e+01,\n",
              "         1.89034594e+01,  1.90108034e+01,  1.91417906e+01,  1.92491834e+01,\n",
              "         1.93720994e+01,  1.94787308e+01,  1.95610747e+01,  1.96938152e+01,\n",
              "         1.98358219e+01,  1.99465691e+01,  2.00737802e+01,  2.01933734e+01,\n",
              "         2.02815177e+01,  2.04261766e+01,  2.05712994e+01,  2.07324998e+01,\n",
              "         2.08620604e+01,  2.10000797e+01,  2.11866052e+01,  2.13011692e+01,\n",
              "         2.14482263e+01,  2.15873463e+01,  2.16866438e+01,  2.18340615e+01,\n",
              "         2.19575177e+01,  2.20972939e+01,  2.21888612e+01,  2.22803349e+01,\n",
              "         2.23957887e+01,  2.24788814e+01,  2.25699250e+01,  2.27325653e+01,\n",
              "         2.29112846e+01,  2.30817355e+01,  2.32201434e+01,  2.33348065e+01,\n",
              "         2.34654657e+01,  2.36517820e+01,  2.37820680e+01,  2.39202756e+01,\n",
              "         2.40267167e+01,  2.41495447e+01,  2.43124637e+01,  2.44354285e+01,\n",
              "         2.45582320e+01,  2.47050622e+01,  2.48517781e+01,  2.49904992e+01,\n",
              "         2.51609885e+01,  2.52835184e+01,  2.54060411e+01,  2.55201358e+01,\n",
              "         2.56421588e+01,  2.57563239e+01,  2.59027016e+01,  2.60729080e+01,\n",
              "         2.62269791e+01,  2.63491913e+01,  2.65193449e+01,  2.66173603e+01,\n",
              "         2.67230409e+01,  2.68529230e+01,  2.70150395e+01,  2.71373113e+01,\n",
              "         2.72674286e+01,  2.73974428e+01,  2.75433116e+01,  2.76733342e+01,\n",
              "         2.77795025e+01,  2.79018893e+01,  2.80643732e+01,  2.81708710e+01,\n",
              "         2.83091888e+01,  2.83997083e+01,  2.85383672e+01,  2.86531283e+01,\n",
              "         2.87760416e+01,  2.89311365e+01,  2.90862669e+01,  2.91615959e+01,\n",
              "         2.92609804e+01,  2.93925326e+01]),\n",
              " array([-1.56000000e-01, -1.28000000e-01, -4.70000000e-02,  4.10000000e-02,\n",
              "         1.05666667e-01,  1.79666667e-01,  2.67000000e-01,  3.38619048e-01,\n",
              "         4.24738095e-01,  5.53591270e-01,  7.07539683e-01,  8.23172078e-01,\n",
              "         9.05080087e-01,  1.04489286e+00,  1.16263420e+00,  1.33477803e+00,\n",
              "         1.42628549e+00,  1.53730494e+00,  1.62850094e+00,  1.73952141e+00,\n",
              "         1.94427748e+00,  2.07886477e+00,  2.22504140e+00,  2.36531155e+00,\n",
              "         2.53956368e+00,  2.75025799e+00,  2.96561138e+00,  3.07393143e+00,\n",
              "         3.22193919e+00,  3.34827948e+00,  3.54477975e+00,  3.72504791e+00,\n",
              "         3.88531257e+00,  4.05971154e+00,  4.29017976e+00,  4.45678446e+00,\n",
              "         4.62505354e+00,  4.81647304e+00,  5.03384371e+00,  5.13857713e+00,\n",
              "         5.33167796e+00,  5.51510571e+00,  5.67091049e+00,  5.87659370e+00,\n",
              "         6.07429846e+00,  6.28907270e+00,  6.44029677e+00,  6.57902284e+00,\n",
              "         6.77942397e+00,  7.00716201e+00,  7.22703501e+00,  7.39975182e+00,\n",
              "         7.58077288e+00,  7.70729788e+00,  7.90057620e+00,  8.11059493e+00,\n",
              "         8.32755270e+00,  8.53480495e+00,  8.77216566e+00,  8.90698218e+00,\n",
              "         9.11376797e+00,  9.33628028e+00,  9.58212816e+00,  9.74685564e+00,\n",
              "         9.94326796e+00,  1.01479758e+01,  1.03291568e+01,  1.05491770e+01,\n",
              "         1.07924074e+01,  1.09396546e+01,  1.11274441e+01,  1.13310022e+01,\n",
              "         1.15162909e+01,  1.17174405e+01,  1.18858473e+01,  1.20855813e+01,\n",
              "         1.23095037e+01,  1.25020965e+01,  1.26709509e+01,  1.28714416e+01,\n",
              "         1.30880361e+01,  1.33133570e+01,  1.35220041e+01,  1.36825441e+01,\n",
              "         1.38231544e+01,  1.40378578e+01,  1.42516931e+01,  1.45138743e+01,\n",
              "         1.47048365e+01,  1.49046154e+01,  1.51045521e+01,  1.52638199e+01,\n",
              "         1.54556853e+01,  1.56396822e+01,  1.58244570e+01,  1.60248220e+01,\n",
              "         1.62478577e+01,  1.64308147e+01,  1.66289411e+01,  1.68514560e+01,\n",
              "         1.70741136e+01,  1.73046089e+01,  1.75593432e+01,  1.78057762e+01,\n",
              "         1.79963719e+01,  1.82427368e+01,  1.84244215e+01,  1.85982981e+01,\n",
              "         1.87724646e+01,  1.89701926e+01,  1.92474145e+01,  1.93887529e+01,\n",
              "         1.96256987e+01,  1.98224354e+01,  2.00109301e+01,  2.01749325e+01,\n",
              "         2.04034895e+01,  2.05921242e+01,  2.07889396e+01,  2.09619634e+01,\n",
              "         2.11430032e+01,  2.13235430e+01,  2.15276322e+01,  2.17241096e+01,\n",
              "         2.18888289e+01,  2.20779586e+01,  2.22906981e+01,  2.24633153e+01,\n",
              "         2.26524158e+01,  2.28094417e+01,  2.29584382e+01,  2.31392590e+01,\n",
              "         2.32716373e+01,  2.34439869e+01,  2.36086918e+01,  2.38052543e+01,\n",
              "         2.40094927e+01,  2.41979117e+01,  2.43860096e+01,  2.45344239e+01,\n",
              "         2.46588573e+01,  2.48630668e+01,  2.50678240e+01,  2.52726791e+01,\n",
              "         2.54780117e+01,  2.56516762e+01,  2.58255534e+01,  2.59517818e+01,\n",
              "         2.60780693e+01,  2.62921875e+01,  2.64665971e+01,  2.66410718e+01,\n",
              "         2.68076355e+01,  2.69982755e+01,  2.72051070e+01,  2.73881017e+01,\n",
              "         2.76113077e+01,  2.78186444e+01,  2.79696757e+01,  2.81044992e+01,\n",
              "         2.83515529e+01,  2.86227324e+01,  2.88141516e+01,  2.90457092e+01,\n",
              "         2.92533416e+01,  2.94367759e+01,  2.96442656e+01,  2.98519596e+01,\n",
              "         3.00039030e+01,  3.01795551e+01,  3.04191930e+01,  3.06749656e+01,\n",
              "         3.08665562e+01,  3.10426509e+01,  3.12348412e+01,  3.14430036e+01,\n",
              "         3.16513309e+01,  3.17796992e+01,  3.19881114e+01,  3.22042100e+01,\n",
              "         3.23724580e+01,  3.25726453e+01,  3.27888869e+01,  3.29654796e+01,\n",
              "         3.31342655e+01,  3.33830340e+01,  3.36238826e+01,  3.38568093e+01,\n",
              "         3.40655653e+01,  3.42582548e+01,  3.44989988e+01,  3.46758175e+01,\n",
              "         3.48287090e+01,  3.50214235e+01,  3.51663526e+01,  3.53910560e+01,\n",
              "         3.56398193e+01,  3.58648788e+01,  3.60581911e+01,  3.62592526e+01,\n",
              "         3.64123855e+01,  3.66052342e+01,  3.68142735e+01,  3.70311072e+01,\n",
              "         3.72878956e+01,  3.75045555e+01,  3.76972528e+01,  3.79217742e+01,\n",
              "         3.80822953e+01,  3.82909401e+01,  3.84595465e+01,  3.86440606e+01,\n",
              "         3.87645669e+01,  3.89491342e+01,  3.91016368e+01,  3.92862677e+01,\n",
              "         3.95269671e+01,  3.97039267e+01,  3.99528824e+01,  4.01058333e+01,\n",
              "         4.03389201e+01,  4.05883421e+01,  4.07659647e+01,  4.09994982e+01,\n",
              "         4.12250937e+01,  4.13706305e+01,  4.16200996e+01,  4.18297310e+01,\n",
              "         4.19592741e+01,  4.22009115e+01,  4.24105346e+01,  4.26444280e+01,\n",
              "         4.28383848e+01,  4.29996909e+01,  4.31612388e+01,  4.33227869e+01,\n",
              "         4.35562063e+01,  4.37416376e+01,  4.39349787e+01,  4.41362400e+01,\n",
              "         4.43134013e+01,  4.45545753e+01,  4.48035413e+01,  4.49644952e+01,\n",
              "         4.51655030e+01,  4.53823553e+01,  4.55751543e+01,  4.57280954e+01,\n",
              "         4.58891056e+01,  4.61062232e+01]),\n",
              " array([-1.56000000e-01, -1.56000000e-01, -1.28000000e-01, -7.90000000e-02,\n",
              "        -2.36666667e-02,  6.76666667e-02,  1.52333333e-01,  3.20000000e-01,\n",
              "         4.24238095e-01,  5.38349206e-01,  6.73507937e-01,  8.11250361e-01,\n",
              "         9.01625180e-01,  1.10705844e+00,  1.25257873e+00,  1.36856560e+00,\n",
              "         1.54217310e+00,  1.74587098e+00,  1.91747061e+00,  2.05244485e+00,\n",
              "         2.22219232e+00,  2.39943660e+00,  2.62634834e+00,  2.77856939e+00,\n",
              "         2.91104768e+00,  3.19934719e+00,  3.44030499e+00,  3.57039396e+00,\n",
              "         3.79813248e+00,  3.93496685e+00,  4.08035650e+00,  4.27836229e+00,\n",
              "         4.46014062e+00,  4.63232682e+00,  4.80623903e+00,  5.00580212e+00,\n",
              "         5.21274927e+00,  5.36513625e+00,  5.54365686e+00,  5.76067188e+00,\n",
              "         5.97970243e+00,  6.18732349e+00,  6.42295372e+00,  6.63656122e+00,\n",
              "         6.83545356e+00,  7.04610692e+00,  7.20841891e+00,  7.42843555e+00,\n",
              "         7.60763614e+00,  7.78951843e+00,  8.01954757e+00,  8.27469179e+00,\n",
              "         8.44937521e+00,  8.71895694e+00,  9.02264837e+00,  9.18649269e+00,\n",
              "         9.42436558e+00,  9.63322598e+00,  9.83302887e+00,  1.00655452e+01,\n",
              "         1.03288970e+01,  1.05541580e+01,  1.07388207e+01,  1.09468264e+01,\n",
              "         1.11079186e+01,  1.13344750e+01,  1.15213496e+01,  1.17243980e+01,\n",
              "         1.19063195e+01,  1.21541900e+01,  1.23856189e+01,  1.26416143e+01,\n",
              "         1.28580309e+01,  1.31460690e+01,  1.33790192e+01,  1.35807350e+01,\n",
              "         1.37665422e+01,  1.40248627e+01,  1.41965767e+01,  1.44629479e+01,\n",
              "         1.47376549e+01,  1.50047959e+01,  1.52317049e+01,  1.54829303e+01,\n",
              "         1.56937029e+01,  1.59521738e+01,  1.62430539e+01,  1.64705678e+01,\n",
              "         1.67859723e+01,  1.69895078e+01,  1.71616722e+01,  1.73413563e+01,\n",
              "         1.76015706e+01,  1.78619003e+01,  1.81140869e+01,  1.82941130e+01,\n",
              "         1.85146089e+01,  1.87429405e+01,  1.88913216e+01,  1.91035356e+01,\n",
              "         1.93169275e+01,  1.95246184e+01,  1.97338248e+01,  2.00006393e+01,\n",
              "         2.03073727e+01,  2.04869993e+01,  2.07387759e+01,  2.09673057e+01,\n",
              "         2.11953734e+01,  2.14310691e+01,  2.16429418e+01,  2.19186362e+01,\n",
              "         2.22100726e+01,  2.25015507e+01,  2.27292196e+01,  2.29657256e+01,\n",
              "         2.32346621e+01,  2.35272944e+01,  2.37320216e+01,  2.39928293e+01,\n",
              "         2.42852030e+01,  2.45460922e+01,  2.48072809e+01,  2.50930253e+01,\n",
              "         2.53230187e+01,  2.55693551e+01,  2.58393727e+01,  2.61011969e+01,\n",
              "         2.63788022e+01,  2.65687555e+01,  2.67830912e+01,  2.69254977e+01,\n",
              "         2.71479351e+01,  2.73705181e+01,  2.75930489e+01,  2.78637707e+01,\n",
              "         2.80625774e+01,  2.83337085e+01,  2.86209490e+01,  2.88842467e+01,\n",
              "         2.91875319e+01,  2.94267944e+01,  2.95696892e+01,  2.98329861e+01,\n",
              "         3.00082105e+01,  3.02073395e+01,  3.04386374e+01,  3.06779744e+01,\n",
              "         3.09255486e+01,  3.11968167e+01,  3.14280504e+01,  3.16592040e+01,\n",
              "         3.18907118e+01,  3.21381670e+01,  3.24253940e+01,  3.27207283e+01,\n",
              "         3.30319246e+01,  3.32548636e+01,  3.35498469e+01,  3.36930498e+01,\n",
              "         3.40127082e+01,  3.42523623e+01,  3.44601497e+01,  3.47401914e+01,\n",
              "         3.49805066e+01,  3.52370210e+01,  3.54454087e+01,  3.56938856e+01,\n",
              "         3.60143371e+01,  3.62551763e+01,  3.65042476e+01,  3.67052377e+01,\n",
              "         3.70344980e+01,  3.73234683e+01,  3.75643057e+01,  3.77810650e+01,\n",
              "         3.80376002e+01,  3.83022517e+01,  3.85588947e+01,  3.87832841e+01,\n",
              "         3.89757135e+01,  3.92080565e+01,  3.94954105e+01,  3.97190316e+01,\n",
              "         3.99426099e+01,  4.02146276e+01,  4.04627784e+01,  4.07668220e+01,\n",
              "         4.10149106e+01,  4.12150843e+01,  4.14712195e+01,  4.17591820e+01,\n",
              "         4.20149789e+01,  4.22548176e+01,  4.25025037e+01,  4.27661151e+01,\n",
              "         4.30298092e+01,  4.32854971e+01,  4.35491667e+01,  4.37809828e+01,\n",
              "         4.39968262e+01,  4.42046428e+01,  4.44281229e+01,  4.46674921e+01,\n",
              "         4.49069409e+01,  4.51142628e+01,  4.53294964e+01,  4.56011270e+01,\n",
              "         4.58566098e+01,  4.60881887e+01,  4.63039102e+01,  4.66076497e+01,\n",
              "         4.68633256e+01,  4.71751442e+01,  4.74469702e+01,  4.76786323e+01,\n",
              "         4.79981569e+01,  4.82617554e+01,  4.85572626e+01,  4.88447112e+01,\n",
              "         4.90520557e+01,  4.93473333e+01,  4.95466940e+01,  4.98500851e+01,\n",
              "         5.00892980e+01,  5.02964643e+01,  5.05917409e+01,  5.07990421e+01,\n",
              "         5.10382749e+01,  5.12293757e+01,  5.15086149e+01,  5.17796970e+01,\n",
              "         5.20586602e+01,  5.23453742e+01,  5.26721662e+01,  5.29349597e+01,\n",
              "         5.31898051e+01,  5.34448487e+01,  5.36599590e+01,  5.39073457e+01,\n",
              "         5.41227485e+01,  5.44181272e+01,  5.46495374e+01,  5.48651555e+01,\n",
              "         5.50326810e+01,  5.52561751e+01,  5.54716522e+01,  5.57110257e+01,\n",
              "         5.59904668e+01,  5.62779974e+01]),\n",
              " array([-1.56000000e-01, -2.14000000e-01, -2.19000000e-01, -1.80000000e-01,\n",
              "        -1.25833333e-01, -1.06666667e-02,  1.58666667e-01,  3.65119048e-01,\n",
              "         5.97869048e-01,  7.68825397e-01,  9.76480159e-01,  1.17972619e+00,\n",
              "         1.34568795e+00,  1.61959343e+00,  1.82992316e+00,  2.10817796e+00,\n",
              "         2.42409640e+00,  2.77385581e+00,  2.98797842e+00,  3.22003310e+00,\n",
              "         3.43670521e+00,  3.77783794e+00,  4.05632249e+00,  4.26709820e+00,\n",
              "         4.54935649e+00,  4.85536007e+00,  5.16287294e+00,  5.39558962e+00,\n",
              "         5.65532609e+00,  5.88811041e+00,  6.14802968e+00,  6.45503173e+00,\n",
              "         6.79615078e+00,  7.13562279e+00,  7.36780369e+00,  7.67600800e+00,\n",
              "         8.04542823e+00,  8.31661336e+00,  8.60455751e+00,  8.89147368e+00,\n",
              "         9.17992824e+00,  9.46922892e+00,  9.71889617e+00,  1.00575374e+01,\n",
              "         1.03487484e+01,  1.06877329e+01,  1.09791908e+01,  1.13094497e+01,\n",
              "         1.16203291e+01,  1.19337838e+01,  1.22632923e+01,  1.26169324e+01,\n",
              "         1.28415151e+01,  1.32407455e+01,  1.35676279e+01,  1.39219998e+01,\n",
              "         1.42119635e+01,  1.45173388e+01,  1.48635832e+01,  1.51768112e+01,\n",
              "         1.55219257e+01,  1.57876204e+01,  1.60934834e+01,  1.64233562e+01,\n",
              "         1.67288958e+01,  1.70906282e+01,  1.74123048e+01,  1.77182872e+01,\n",
              "         1.80722796e+01,  1.84023738e+01,  1.87253865e+01,  1.90659903e+01,\n",
              "         1.94478467e+01,  1.97826303e+01,  2.01100094e+01,  2.04210360e+01,\n",
              "         2.07966232e+01,  2.10999539e+01,  2.14496851e+01,  2.17264606e+01,\n",
              "         2.20681138e+01,  2.23857385e+01,  2.26874384e+01,  2.29733221e+01,\n",
              "         2.32843499e+01,  2.36273810e+01,  2.39949803e+01,  2.42742593e+01,\n",
              "         2.45615534e+01,  2.48401266e+01,  2.51586140e+01,  2.55496032e+01,\n",
              "         2.58691476e+01,  2.60763175e+01,  2.63801966e+01,  2.66848837e+01,\n",
              "         2.70540812e+01,  2.74239876e+01,  2.77302702e+01,  2.81487017e+01,\n",
              "         2.84868682e+01,  2.88328913e+01,  2.91627116e+01,  2.94840662e+01,\n",
              "         2.97413182e+01,  3.00794159e+01,  3.04816362e+01,  3.08041200e+01,\n",
              "         3.11907633e+01,  3.15134344e+01,  3.18511426e+01,  3.22292916e+01,\n",
              "         3.26077059e+01,  3.29465926e+01,  3.32853619e+01,  3.35912646e+01,\n",
              "         3.38813592e+01,  3.41873887e+01,  3.45168869e+01,  3.48225023e+01,\n",
              "         3.51527407e+01,  3.55227230e+01,  3.58610289e+01,  3.61910819e+01,\n",
              "         3.65690815e+01,  3.68994166e+01,  3.71972541e+01,  3.75348126e+01,\n",
              "         3.78477579e+01,  3.81768398e+01,  3.85539963e+01,  3.88595960e+01,\n",
              "         3.91652770e+01,  3.94707989e+01,  3.98727455e+01,  4.01460587e+01,\n",
              "         4.04357021e+01,  4.07647887e+01,  4.10375767e+01,  4.13500922e+01,\n",
              "         4.16465003e+01,  4.19991386e+01,  4.22234995e+01,  4.25681406e+01,\n",
              "         4.28728264e+01,  4.31695782e+01,  4.35382488e+01,  4.38429752e+01,\n",
              "         4.42193649e+01,  4.45717197e+01,  4.48925158e+01,  4.51732922e+01,\n",
              "         4.53660650e+01,  4.56468086e+01,  4.59837176e+01,  4.62646687e+01,\n",
              "         4.65536626e+01,  4.69218557e+01,  4.71782216e+01,  4.75384441e+01,\n",
              "         4.78824384e+01,  4.82748887e+01,  4.85793318e+01,  4.89396800e+01,\n",
              "         4.92434112e+01,  4.95547988e+01,  4.98583386e+01,  5.01861734e+01,\n",
              "         5.04737875e+01,  5.07450016e+01,  5.10717876e+01,  5.14627686e+01,\n",
              "         5.18217962e+01,  5.21322549e+01,  5.24268236e+01,  5.27133166e+01,\n",
              "         5.30717351e+01,  5.34384933e+01,  5.37173956e+01,  5.39964452e+01,\n",
              "         5.43552955e+01,  5.46743968e+01,  5.50094265e+01,  5.53367498e+01,\n",
              "         5.56564199e+01,  5.60002546e+01,  5.62317998e+01,  5.64877651e+01,\n",
              "         5.67754846e+01,  5.71035190e+01,  5.73916104e+01,  5.76795552e+01,\n",
              "         5.79996345e+01,  5.82953809e+01,  5.86070456e+01,  5.89026315e+01,\n",
              "         5.92143484e+01,  5.96059503e+01,  5.98933004e+01,  6.02125602e+01,\n",
              "         6.04438150e+01,  6.06745992e+01,  6.10173915e+01,  6.13679021e+01,\n",
              "         6.17266477e+01,  6.20373834e+01,  6.23959908e+01,  6.26902210e+01,\n",
              "         6.30405095e+01,  6.33269337e+01,  6.36694896e+01,  6.39561730e+01,\n",
              "         6.42907750e+01,  6.45773821e+01,  6.49195133e+01,  6.53098873e+01,\n",
              "         6.57003735e+01,  6.60990276e+01,  6.64098452e+01,  6.68005012e+01,\n",
              "         6.70389452e+01,  6.73494102e+01,  6.76680001e+01,  6.79863773e+01,\n",
              "         6.83608568e+01,  6.87276150e+01,  6.89902425e+01,  6.92766182e+01,\n",
              "         6.96349725e+01,  6.98811279e+01,  7.02073642e+01,  7.05339129e+01,\n",
              "         7.08447157e+01,  7.11072351e+01,  7.14974578e+01,  7.18478911e+01,\n",
              "         7.21505963e+01,  7.25170395e+01,  7.28754461e+01,  7.31858101e+01,\n",
              "         7.35601274e+01,  7.38865385e+01,  7.42608541e+01,  7.45471710e+01,\n",
              "         7.48896711e+01,  7.51442425e+01,  7.53904930e+01,  7.57566336e+01,\n",
              "         7.60588228e+01,  7.63530103e+01])]"
            ]
          },
          "metadata": {
            "tags": []
          },
          "execution_count": 15
        }
      ]
    },
    {
      "cell_type": "markdown",
      "metadata": {
        "id": "z5OdUNMex8bD"
      },
      "source": [
        "Plotting epsilon greedy algorithm defined above for various values of epsilon"
      ]
    },
    {
      "cell_type": "code",
      "metadata": {
        "id": "3NjuOeQeAYRV",
        "colab": {
          "base_uri": "https://localhost:8080/",
          "height": 295
        },
        "outputId": "43c8af16-8d42-4ead-9d75-25ee875ad7f2"
      },
      "source": [
        "x=[i for i in range(1,250+1)]\n",
        "y=results_epsilon_greedy\n",
        "\n",
        "plt.plot(x,y[0],'b',label='epsilon=0.1') #Blue curve with epsilon=0.1\n",
        "\n",
        "plt.xlabel('Time') \n",
        "\n",
        "plt.ylabel('Cumulative regret')   \n",
        "\n",
        "plt.title('cumulative regret over Time') \n",
        "\n",
        "plt.plot(x,y[1],'r',label='epsilon=0.2') #Red curve with epsilon=0.2\n",
        "plt.plot(x,y[2],'g',label='epsilon=0.3') #Green curve with epsilon=0.3\n",
        "plt.plot(x,y[3],'y',label='epsilon=0.4') #Yellow curve with epsilon=0.4\n",
        "plt.plot(x,y[4],'black',label='epsilon=0.5') #Black curve with epsilon=0.5\n",
        "\n",
        "plt.legend(loc='upper right')\n",
        "\n",
        "# function to show the plot \n",
        "plt.show() "
      ],
      "execution_count": null,
      "outputs": [
        {
          "output_type": "display_data",
          "data": {
            "image/png": "[encoded data removed]",
            "text/plain": [
              "<Figure size 432x288 with 1 Axes>"
            ]
          },
          "metadata": {
            "tags": [],
            "needs_background": "light"
          }
        }
      ]
    },
    {
      "cell_type": "markdown",
      "metadata": {
        "id": "KCPtQE7UzPW-"
      },
      "source": [
        "###Probability of selecting best arm in epsilon greedy"
      ]
    },
    {
      "cell_type": "code",
      "metadata": {
        "id": "cxJ_TnOJyGFP",
        "colab": {
          "base_uri": "https://localhost:8080/"
        },
        "outputId": "ed5d04f7-97bf-4a27-bcb1-f0e794147a5d"
      },
      "source": [
        "results_epsilon_greedy_prob_best_arm=[]\n",
        "for epsilon in [0.1, 0.2, 0.3, 0.4, 0.5]:\n",
        "    algo = Epsilon_Greedy_Algorithm(epsilon, [], [])\n",
        "    algo.initialize(number_of_arms)\n",
        "    results = test_algorithm(algo, arms, 100, 250)  #100 is no. of simulations and 250 is times the arm is pulled in one simulation\n",
        "    results_epsilon_greedy_prob_best_arm.append(results[5]) #5 is for prob. of selecting best arm\n",
        "    \n",
        "results_epsilon_greedy_prob_best_arm  "
      ],
      "execution_count": null,
      "outputs": [
        {
          "output_type": "execute_result",
          "data": {
            "text/plain": [
              "[array([0.92      , 0.93      , 0.92      , 0.93      , 0.918     ,\n",
              "        0.92166667, 0.91285714, 0.9125    , 0.91666667, 0.919     ,\n",
              "        0.92090909, 0.9225    , 0.92461538, 0.92428571, 0.926     ,\n",
              "        0.926875  , 0.92588235, 0.92388889, 0.92421053, 0.9245    ,\n",
              "        0.92619048, 0.92409091, 0.9226087 , 0.92166667, 0.9236    ,\n",
              "        0.92461538, 0.92444444, 0.92571429, 0.92655172, 0.92633333,\n",
              "        0.92580645, 0.925625  , 0.92515152, 0.925     , 0.924     ,\n",
              "        0.925     , 0.92594595, 0.92631579, 0.92589744, 0.9245    ,\n",
              "        0.92341463, 0.92285714, 0.92348837, 0.92340909, 0.92266667,\n",
              "        0.92195652, 0.92212766, 0.92166667, 0.92183673, 0.9214    ,\n",
              "        0.92176471, 0.92269231, 0.92245283, 0.92111111, 0.92054545,\n",
              "        0.92053571, 0.92035088, 0.92051724, 0.92084746, 0.92083333,\n",
              "        0.91967213, 0.91903226, 0.91936508, 0.91890625, 0.91907692,\n",
              "        0.91893939, 0.91865672, 0.91926471, 0.91927536, 0.91928571,\n",
              "        0.91915493, 0.91944444, 0.9190411 , 0.91837838, 0.91853333,\n",
              "        0.91842105, 0.91857143, 0.91871795, 0.91886076, 0.91925   ,\n",
              "        0.91901235, 0.9195122 , 0.91975904, 0.9202381 , 0.91976471,\n",
              "        0.91976744, 0.92011494, 0.92034091, 0.9205618 , 0.92066667,\n",
              "        0.92076923, 0.92065217, 0.92096774, 0.92031915, 0.92073684,\n",
              "        0.92052083, 0.92082474, 0.92132653, 0.92151515, 0.9213    ,\n",
              "        0.92128713, 0.92107843, 0.92106796, 0.92134615, 0.92104762,\n",
              "        0.92066038, 0.92102804, 0.92064815, 0.92009174, 0.92      ,\n",
              "        0.91972973, 0.91964286, 0.91973451, 0.9195614 , 0.91930435,\n",
              "        0.91939655, 0.91957265, 0.91949153, 0.91941176, 0.91966667,\n",
              "        0.91966942, 0.9195082 , 0.9195122 , 0.91967742, 0.91992   ,\n",
              "        0.92007937, 0.92023622, 0.91992188, 0.91992248, 0.91984615,\n",
              "        0.92007634, 0.92022727, 0.92030075, 0.92007463, 0.91992593,\n",
              "        0.92014706, 0.91985401, 0.92      , 0.92007194, 0.92014286,\n",
              "        0.91992908, 0.92      , 0.91958042, 0.91986111, 0.91972414,\n",
              "        0.91972603, 0.91986395, 0.91993243, 0.91979866, 0.9198    ,\n",
              "        0.91986755, 0.92019737, 0.91986928, 0.91974026, 0.91954839,\n",
              "        0.91980769, 0.91980892, 0.91987342, 0.92      , 0.9198125 ,\n",
              "        0.91981366, 0.92012346, 0.92030675, 0.92067073, 0.92078788,\n",
              "        0.92036145, 0.91994012, 0.91994048, 0.91988166, 0.92023529,\n",
              "        0.92017544, 0.92017442, 0.92028902, 0.92022989, 0.92005714,\n",
              "        0.92017045, 0.92022599, 0.92039326, 0.9203352 , 0.92038889,\n",
              "        0.92033149, 0.92038462, 0.9204918 , 0.92070652, 0.92081081,\n",
              "        0.92075269, 0.92064171, 0.92090426, 0.92084656, 0.92084211,\n",
              "        0.92073298, 0.92067708, 0.92051813, 0.92051546, 0.92035897,\n",
              "        0.92035714, 0.92025381, 0.92010101, 0.92020101, 0.92025   ,\n",
              "        0.92034826, 0.92034653, 0.92049261, 0.92058824, 0.92063415,\n",
              "        0.92053398, 0.92067633, 0.92052885, 0.92038278, 0.92042857,\n",
              "        0.92047393, 0.92061321, 0.92075117, 0.92079439, 0.92088372,\n",
              "        0.92078704, 0.92069124, 0.92077982, 0.92068493, 0.92077273,\n",
              "        0.92058824, 0.92063063, 0.92058296, 0.92040179, 0.92031111,\n",
              "        0.92035398, 0.92035242, 0.9204386 , 0.92052402, 0.92078261,\n",
              "        0.92073593, 0.92094828, 0.92111588, 0.92119658, 0.92114894,\n",
              "        0.92122881, 0.92130802, 0.92109244, 0.92112971, 0.921     ,\n",
              "        0.92082988, 0.9207438 , 0.92065844, 0.92077869, 0.92061224,\n",
              "        0.92052846, 0.9205668 , 0.92052419, 0.92060241, 0.92068   ]),\n",
              " array([0.85      , 0.855     , 0.84333333, 0.8475    , 0.834     ,\n",
              "        0.83333333, 0.83857143, 0.8375    , 0.84222222, 0.843     ,\n",
              "        0.84363636, 0.85      , 0.84846154, 0.84571429, 0.84733333,\n",
              "        0.84375   , 0.84764706, 0.84833333, 0.84578947, 0.8455    ,\n",
              "        0.84428571, 0.84454545, 0.84391304, 0.84291667, 0.8428    ,\n",
              "        0.84384615, 0.84481481, 0.84357143, 0.84482759, 0.844     ,\n",
              "        0.84064516, 0.8409375 , 0.84121212, 0.84029412, 0.84114286,\n",
              "        0.84083333, 0.84108108, 0.84105263, 0.83974359, 0.839     ,\n",
              "        0.84      , 0.83952381, 0.83906977, 0.83977273, 0.83977778,\n",
              "        0.83826087, 0.83851064, 0.83895833, 0.83857143, 0.8368    ,\n",
              "        0.8354902 , 0.83634615, 0.83660377, 0.83666667, 0.83672727,\n",
              "        0.83660714, 0.83684211, 0.83655172, 0.83745763, 0.83833333,\n",
              "        0.83803279, 0.83693548, 0.83539683, 0.83609375, 0.83615385,\n",
              "        0.83681818, 0.83701493, 0.83617647, 0.83637681, 0.83542857,\n",
              "        0.8356338 , 0.83430556, 0.83452055, 0.83527027, 0.83653333,\n",
              "        0.83644737, 0.83766234, 0.83833333, 0.83848101, 0.838375  ,\n",
              "        0.83790123, 0.83853659, 0.83831325, 0.83821429, 0.83788235,\n",
              "        0.83732558, 0.83712644, 0.83693182, 0.83674157, 0.837     ,\n",
              "        0.83714286, 0.8375    , 0.83752688, 0.83765957, 0.83768421,\n",
              "        0.83760417, 0.83824742, 0.83857143, 0.8379798 , 0.8378    ,\n",
              "        0.83762376, 0.83754902, 0.83786408, 0.83759615, 0.83714286,\n",
              "        0.83716981, 0.83654206, 0.8362963 , 0.83697248, 0.83690909,\n",
              "        0.8363964 , 0.836875  , 0.83707965, 0.83789474, 0.83791304,\n",
              "        0.83836207, 0.83897436, 0.83898305, 0.83915966, 0.83933333,\n",
              "        0.83942149, 0.83991803, 0.8400813 , 0.84008065, 0.84024   ,\n",
              "        0.84055556, 0.84086614, 0.84078125, 0.84131783, 0.84115385,\n",
              "        0.84167939, 0.84189394, 0.84165414, 0.84208955, 0.84214815,\n",
              "        0.84227941, 0.84189781, 0.84173913, 0.8418705 , 0.84214286,\n",
              "        0.84219858, 0.84295775, 0.84314685, 0.84319444, 0.84303448,\n",
              "        0.84253425, 0.84190476, 0.84202703, 0.84201342, 0.8422    ,\n",
              "        0.84211921, 0.84217105, 0.8420915 , 0.84220779, 0.842     ,\n",
              "        0.84211538, 0.84191083, 0.84158228, 0.84163522, 0.8420625 ,\n",
              "        0.84204969, 0.84209877, 0.84208589, 0.84219512, 0.842     ,\n",
              "        0.84204819, 0.84203593, 0.84214286, 0.84254438, 0.84235294,\n",
              "        0.84251462, 0.84244186, 0.84242775, 0.84218391, 0.84205714,\n",
              "        0.84198864, 0.84186441, 0.84207865, 0.84201117, 0.84216667,\n",
              "        0.84198895, 0.84186813, 0.84169399, 0.84206522, 0.84221622,\n",
              "        0.84215054, 0.84197861, 0.84175532, 0.84185185, 0.84226316,\n",
              "        0.8421466 , 0.84171875, 0.84124352, 0.84087629, 0.84097436,\n",
              "        0.84112245, 0.84111675, 0.84111111, 0.84120603, 0.8416    ,\n",
              "        0.84159204, 0.84143564, 0.84142857, 0.84161765, 0.8415122 ,\n",
              "        0.84140777, 0.84135266, 0.84100962, 0.8407177 , 0.84095238,\n",
              "        0.84123223, 0.84117925, 0.84103286, 0.84102804, 0.84088372,\n",
              "        0.84074074, 0.84078341, 0.8406422 , 0.84059361, 0.84072727,\n",
              "        0.84072398, 0.84063063, 0.84071749, 0.84075893, 0.84062222,\n",
              "        0.84053097, 0.84057269, 0.84057018, 0.84043668, 0.84030435,\n",
              "        0.84030303, 0.84034483, 0.84025751, 0.84012821, 0.84017021,\n",
              "        0.84012712, 0.83995781, 0.83983193, 0.83974895, 0.83975   ,\n",
              "        0.83987552, 0.83995868, 0.83995885, 0.84012295, 0.84004082,\n",
              "        0.8400813 , 0.84012146, 0.83983871, 0.83991968, 0.84008   ]),\n",
              " array([0.77      , 0.76      , 0.73666667, 0.7525    , 0.748     ,\n",
              "        0.73833333, 0.73428571, 0.7375    , 0.73777778, 0.744     ,\n",
              "        0.74636364, 0.74416667, 0.74230769, 0.74214286, 0.748     ,\n",
              "        0.745625  , 0.74470588, 0.74277778, 0.74157895, 0.742     ,\n",
              "        0.7447619 , 0.74909091, 0.75      , 0.74875   , 0.7476    ,\n",
              "        0.74923077, 0.75111111, 0.74821429, 0.74655172, 0.74766667,\n",
              "        0.74774194, 0.7490625 , 0.75      , 0.75323529, 0.75485714,\n",
              "        0.75555556, 0.75378378, 0.75394737, 0.75512821, 0.75375   ,\n",
              "        0.75439024, 0.75309524, 0.75162791, 0.75159091, 0.75333333,\n",
              "        0.75456522, 0.75404255, 0.75416667, 0.7544898 , 0.7546    ,\n",
              "        0.75490196, 0.75403846, 0.75603774, 0.75611111, 0.75527273,\n",
              "        0.75553571, 0.75631579, 0.75568966, 0.75627119, 0.75616667,\n",
              "        0.75639344, 0.7566129 , 0.75603175, 0.75578125, 0.75569231,\n",
              "        0.75530303, 0.75537313, 0.75691176, 0.75782609, 0.75685714,\n",
              "        0.75690141, 0.75611111, 0.75684932, 0.75662162, 0.75666667,\n",
              "        0.75697368, 0.75714286, 0.7575641 , 0.75658228, 0.757     ,\n",
              "        0.75716049, 0.75731707, 0.75674699, 0.75678571, 0.75682353,\n",
              "        0.75709302, 0.75643678, 0.75636364, 0.75595506, 0.757     ,\n",
              "        0.75681319, 0.75695652, 0.75645161, 0.75691489, 0.75694737,\n",
              "        0.75645833, 0.75628866, 0.75663265, 0.75717172, 0.7568    ,\n",
              "        0.75683168, 0.75637255, 0.75524272, 0.75548077, 0.75580952,\n",
              "        0.75575472, 0.75607477, 0.75611111, 0.75623853, 0.756     ,\n",
              "        0.75612613, 0.75580357, 0.75548673, 0.75561404, 0.756     ,\n",
              "        0.75594828, 0.7557265 , 0.75610169, 0.75529412, 0.7555    ,\n",
              "        0.75561983, 0.7557377 , 0.75560976, 0.75629032, 0.7564    ,\n",
              "        0.75595238, 0.75622047, 0.75625   , 0.75689922, 0.757     ,\n",
              "        0.75687023, 0.75651515, 0.75669173, 0.75656716, 0.75622222,\n",
              "        0.75691176, 0.75744526, 0.75731884, 0.75748201, 0.75707143,\n",
              "        0.75702128, 0.7571831 , 0.7572028 , 0.75722222, 0.75737931,\n",
              "        0.75726027, 0.75727891, 0.75716216, 0.75744966, 0.75773333,\n",
              "        0.75721854, 0.75730263, 0.75751634, 0.7574026 , 0.75735484,\n",
              "        0.75762821, 0.75751592, 0.75721519, 0.75748428, 0.757625  ,\n",
              "        0.75751553, 0.75753086, 0.75779141, 0.7577439 , 0.75769697,\n",
              "        0.75777108, 0.75754491, 0.75744048, 0.75686391, 0.757     ,\n",
              "        0.75649123, 0.75709302, 0.75710983, 0.75672414, 0.75645714,\n",
              "        0.75676136, 0.75644068, 0.75646067, 0.75636872, 0.75633333,\n",
              "        0.75646409, 0.75620879, 0.75622951, 0.75608696, 0.75605405,\n",
              "        0.75612903, 0.7559893 , 0.75585106, 0.75613757, 0.75652632,\n",
              "        0.75680628, 0.75640625, 0.75663212, 0.75690722, 0.75697436,\n",
              "        0.75719388, 0.75700508, 0.75676768, 0.75683417, 0.75665   ,\n",
              "        0.75661692, 0.75683168, 0.75650246, 0.75676471, 0.75712195,\n",
              "        0.75723301, 0.757343  , 0.75730769, 0.75741627, 0.75719048,\n",
              "        0.75691943, 0.75688679, 0.7571831 , 0.75700935, 0.75702326,\n",
              "        0.75703704, 0.75700461, 0.75688073, 0.75684932, 0.75659091,\n",
              "        0.75656109, 0.75612613, 0.75641256, 0.75633929, 0.75622222,\n",
              "        0.75615044, 0.75612335, 0.75649123, 0.75655022, 0.7566087 ,\n",
              "        0.75658009, 0.75663793, 0.75669528, 0.7567094 , 0.75693617,\n",
              "        0.75724576, 0.75729958, 0.75726891, 0.75715481, 0.757125  ,\n",
              "        0.75721992, 0.75727273, 0.75740741, 0.75721311, 0.75718367,\n",
              "        0.75715447, 0.75708502, 0.75701613, 0.75686747, 0.75696   ]),\n",
              " array([0.64      , 0.68      , 0.68      , 0.6725    , 0.668     ,\n",
              "        0.68      , 0.68714286, 0.6775    , 0.68      , 0.674     ,\n",
              "        0.68090909, 0.68416667, 0.67923077, 0.68142857, 0.678     ,\n",
              "        0.67625   , 0.68058824, 0.68166667, 0.68263158, 0.68      ,\n",
              "        0.67761905, 0.67590909, 0.67652174, 0.67666667, 0.6756    ,\n",
              "        0.67461538, 0.67518519, 0.675     , 0.67793103, 0.67733333,\n",
              "        0.67580645, 0.6753125 , 0.67666667, 0.67764706, 0.67657143,\n",
              "        0.675     , 0.67648649, 0.67710526, 0.67538462, 0.675     ,\n",
              "        0.67560976, 0.67619048, 0.67604651, 0.67727273, 0.67733333,\n",
              "        0.67847826, 0.68      , 0.68041667, 0.68204082, 0.681     ,\n",
              "        0.68137255, 0.68269231, 0.68075472, 0.67944444, 0.67745455,\n",
              "        0.67678571, 0.67684211, 0.67655172, 0.67677966, 0.6775    ,\n",
              "        0.67819672, 0.67919355, 0.67920635, 0.68      , 0.67953846,\n",
              "        0.67954545, 0.68029851, 0.68014706, 0.67985507, 0.67971429,\n",
              "        0.68056338, 0.68055556, 0.6809589 , 0.68135135, 0.68013333,\n",
              "        0.67986842, 0.67935065, 0.67974359, 0.67911392, 0.679125  ,\n",
              "        0.67802469, 0.67829268, 0.6786747 , 0.67892857, 0.67917647,\n",
              "        0.6794186 , 0.67873563, 0.67806818, 0.67764045, 0.67733333,\n",
              "        0.67714286, 0.67673913, 0.67655914, 0.67691489, 0.67652632,\n",
              "        0.6746875 , 0.67474227, 0.67438776, 0.67313131, 0.6729    ,\n",
              "        0.67267327, 0.67284314, 0.67291262, 0.67278846, 0.6732381 ,\n",
              "        0.67377358, 0.6735514 , 0.67361111, 0.67422018, 0.67463636,\n",
              "        0.67414414, 0.67491071, 0.67539823, 0.67578947, 0.67591304,\n",
              "        0.67577586, 0.67598291, 0.6759322 , 0.67588235, 0.676     ,\n",
              "        0.6761157 , 0.67639344, 0.67666667, 0.67645161, 0.67616   ,\n",
              "        0.6765873 , 0.67669291, 0.67703125, 0.67775194, 0.67730769,\n",
              "        0.6770229 , 0.67712121, 0.67699248, 0.67708955, 0.67733333,\n",
              "        0.67757353, 0.67751825, 0.67804348, 0.67769784, 0.67757143,\n",
              "        0.67695035, 0.67676056, 0.67692308, 0.67659722, 0.67710345,\n",
              "        0.67739726, 0.67714286, 0.67709459, 0.67704698, 0.67746667,\n",
              "        0.6781457 , 0.67848684, 0.67895425, 0.67857143, 0.67870968,\n",
              "        0.67852564, 0.67840764, 0.6785443 , 0.6790566 , 0.6795625 ,\n",
              "        0.67937888, 0.67962963, 0.67944785, 0.68018293, 0.67993939,\n",
              "        0.68      , 0.67976048, 0.6797619 , 0.67952663, 0.67988235,\n",
              "        0.68023392, 0.68040698, 0.68028902, 0.68011494, 0.68005714,\n",
              "        0.68051136, 0.68079096, 0.68078652, 0.68083799, 0.68072222,\n",
              "        0.68066298, 0.6806044 , 0.6804918 , 0.68059783, 0.68043243,\n",
              "        0.68096774, 0.68106952, 0.68154255, 0.68142857, 0.68136842,\n",
              "        0.68151832, 0.68135417, 0.68150259, 0.68201031, 0.68179487,\n",
              "        0.68178571, 0.68162437, 0.68166667, 0.68180905, 0.6818    ,\n",
              "        0.68164179, 0.68183168, 0.68187192, 0.68176471, 0.68136585,\n",
              "        0.6815534 , 0.68169082, 0.68201923, 0.68167464, 0.68185714,\n",
              "        0.68203791, 0.6820283 , 0.68169014, 0.68172897, 0.68167442,\n",
              "        0.6812963 , 0.68129032, 0.68151376, 0.6816895 , 0.68140909,\n",
              "        0.68162896, 0.6818018 , 0.68174888, 0.68178571, 0.68195556,\n",
              "        0.68176991, 0.68185022, 0.6822807 , 0.68213974, 0.68226087,\n",
              "        0.68233766, 0.68237069, 0.68261803, 0.68290598, 0.68280851,\n",
              "        0.68271186, 0.68270042, 0.68243697, 0.6823431 , 0.68225   ,\n",
              "        0.68248963, 0.6822314 , 0.68197531, 0.68180328, 0.68171429,\n",
              "        0.68178862, 0.68210526, 0.68197581, 0.68200803, 0.6818    ]),\n",
              " array([0.62      , 0.615     , 0.63666667, 0.63      , 0.614     ,\n",
              "        0.62166667, 0.61285714, 0.6025    , 0.59444444, 0.591     ,\n",
              "        0.59363636, 0.5925    , 0.59076923, 0.58785714, 0.58666667,\n",
              "        0.586875  , 0.58647059, 0.585     , 0.58631579, 0.59      ,\n",
              "        0.59190476, 0.59181818, 0.59217391, 0.59666667, 0.5988    ,\n",
              "        0.59615385, 0.59740741, 0.59821429, 0.60103448, 0.60066667,\n",
              "        0.59774194, 0.596875  , 0.59909091, 0.59794118, 0.59628571,\n",
              "        0.59777778, 0.59540541, 0.59605263, 0.59410256, 0.59475   ,\n",
              "        0.59463415, 0.59309524, 0.59255814, 0.59363636, 0.59333333,\n",
              "        0.59478261, 0.59510638, 0.59354167, 0.59265306, 0.5926    ,\n",
              "        0.59117647, 0.59211538, 0.59245283, 0.59314815, 0.59218182,\n",
              "        0.59232143, 0.59245614, 0.59189655, 0.59254237, 0.59183333,\n",
              "        0.59180328, 0.59306452, 0.59349206, 0.5925    , 0.59230769,\n",
              "        0.59136364, 0.59208955, 0.59264706, 0.59362319, 0.59371429,\n",
              "        0.59394366, 0.59388889, 0.59410959, 0.59337838, 0.59333333,\n",
              "        0.59342105, 0.59376623, 0.59320513, 0.59278481, 0.592375  ,\n",
              "        0.59259259, 0.59256098, 0.59204819, 0.59178571, 0.59270588,\n",
              "        0.59255814, 0.59287356, 0.59306818, 0.59370787, 0.59422222,\n",
              "        0.59505495, 0.59445652, 0.59473118, 0.59489362, 0.59494737,\n",
              "        0.59479167, 0.59474227, 0.59479592, 0.59424242, 0.5944    ,\n",
              "        0.59524752, 0.59529412, 0.59485437, 0.59528846, 0.596     ,\n",
              "        0.59707547, 0.59663551, 0.59675926, 0.59633028, 0.59672727,\n",
              "        0.59684685, 0.596875  , 0.59690265, 0.59745614, 0.59721739,\n",
              "        0.5975    , 0.5974359 , 0.59711864, 0.59680672, 0.59625   ,\n",
              "        0.59677686, 0.59672131, 0.59650407, 0.5975    , 0.59776   ,\n",
              "        0.59730159, 0.59740157, 0.5978125 , 0.59806202, 0.59830769,\n",
              "        0.59854962, 0.59840909, 0.59849624, 0.59835821, 0.59844444,\n",
              "        0.59860294, 0.5979562 , 0.59862319, 0.59856115, 0.59878571,\n",
              "        0.59836879, 0.59866197, 0.5986014 , 0.59840278, 0.59834483,\n",
              "        0.59890411, 0.59877551, 0.59858108, 0.59865772, 0.59833333,\n",
              "        0.59854305, 0.59861842, 0.59882353, 0.5988961 , 0.59877419,\n",
              "        0.59858974, 0.59917197, 0.59955696, 0.59930818, 0.5995    ,\n",
              "        0.59944099, 0.59969136, 0.6002454 , 0.59981707, 0.59981818,\n",
              "        0.59933735, 0.59958084, 0.59928571, 0.59881657, 0.59823529,\n",
              "        0.59812865, 0.5980814 , 0.59820809, 0.59810345, 0.59822857,\n",
              "        0.59801136, 0.59881356, 0.59882022, 0.59960894, 0.59972222,\n",
              "        0.59961326, 0.59950549, 0.59918033, 0.59972826, 0.59994595,\n",
              "        0.59967742, 0.59962567, 0.59973404, 0.5994709 , 0.59973684,\n",
              "        0.59984293, 0.59989583, 0.60010363, 0.6       , 0.60005128,\n",
              "        0.59964286, 0.59954315, 0.59949495, 0.59949749, 0.5995    ,\n",
              "        0.60004975, 0.60009901, 0.59990148, 0.59995098, 0.59956098,\n",
              "        0.59956311, 0.59990338, 0.60009615, 0.59971292, 0.59947619,\n",
              "        0.5992891 , 0.59924528, 0.59896714, 0.59892523, 0.5987907 ,\n",
              "        0.59916667, 0.59907834, 0.59917431, 0.59899543, 0.59895455,\n",
              "        0.59909502, 0.59927928, 0.59941704, 0.59973214, 0.59986667,\n",
              "        0.60035398, 0.60039648, 0.60070175, 0.60087336, 0.60104348,\n",
              "        0.60125541, 0.60116379, 0.60124464, 0.60098291, 0.60123404,\n",
              "        0.60101695, 0.60097046, 0.60084034, 0.60100418, 0.60120833,\n",
              "        0.60124481, 0.60144628, 0.60156379, 0.60127049, 0.60122449,\n",
              "        0.60121951, 0.60153846, 0.60149194, 0.60156627, 0.60156   ])]"
            ]
          },
          "metadata": {
            "tags": []
          },
          "execution_count": 18
        }
      ]
    },
    {
      "cell_type": "code",
      "metadata": {
        "id": "FboyXuRDyGFR",
        "colab": {
          "base_uri": "https://localhost:8080/",
          "height": 295
        },
        "outputId": "f1ea5243-6df5-4e25-aab7-afe49f20803b"
      },
      "source": [
        "x=[i for i in range(1,250+1)]\n",
        "y=results_epsilon_greedy_prob_best_arm\n",
        "\n",
        "plt.plot(x,y[0],'b',label='epsilon=0.1') #Blue curve with epsilon=0.2\n",
        "\n",
        "plt.xlabel('Time') \n",
        "\n",
        "plt.ylabel('Prob of selecting best arm')   \n",
        "\n",
        "plt.title('Prob of selecting best arm over Time') \n",
        "\n",
        "plt.plot(x,y[1],'r',label='epsilon=0.2') #Red curve with epsilon=0.2\n",
        "plt.plot(x,y[2],'g',label='epsilon=0.3') #Green curve with epsilon=0.3\n",
        "plt.plot(x,y[3],'y',label='epsilon=0.4') #Yellow curve with epsilon=0.4\n",
        "plt.plot(x,y[4],'black',label='epsilon=0.5') #Black curve with epsilon=0.5\n",
        "\n",
        "plt.legend(loc='upper right')\n",
        "\n",
        "# function to show the plot \n",
        "plt.show() "
      ],
      "execution_count": null,
      "outputs": [
        {
          "output_type": "display_data",
          "data": {
            "image/png": "[encoded data removed]",
            "text/plain": [
              "<Figure size 432x288 with 1 Axes>"
            ]
          },
          "metadata": {
            "tags": [],
            "needs_background": "light"
          }
        }
      ]
    },
    {
      "cell_type": "markdown",
      "metadata": {
        "id": "Gy2vMyNgyI5x"
      },
      "source": [
        "Executing UCB1 algorithm defined above"
      ]
    },
    {
      "cell_type": "code",
      "metadata": {
        "id": "Id6kReKaL-tN",
        "colab": {
          "base_uri": "https://localhost:8080/"
        },
        "outputId": "aa54ab7d-59ca-46ee-d0f2-0c6f779cec80"
      },
      "source": [
        "algo = UCB([], [])\n",
        "algo.initialize(number_of_arms)\n",
        "#results_UCB = test_algorithm_UCB(algo, arms, 100, 250)  #100 is no. of simulations and 250 is times the arm is pulled in one simulation\n",
        "results_UCB = test_algorithm(algo, arms, 100, 250)\n",
        "results_UCB[4] "
      ],
      "execution_count": null,
      "outputs": [
        {
          "output_type": "execute_result",
          "data": {
            "text/plain": [
              "array([-0.1       , -0.09      , -0.79      ,  0.05      ,  0.89      ,\n",
              "        1.148     ,  1.403     ,  1.56566667,  2.11466667,  2.83166667,\n",
              "        3.51666667,  4.17166667,  4.25433333,  4.6115    ,  4.73566667,\n",
              "        4.86930952,  4.99945238,  5.27325794,  5.68127381,  6.12428968,\n",
              "        6.67937266,  7.21378427,  7.61519589,  7.97402886,  8.1441912 ,\n",
              "        8.23598662,  8.29790748,  8.36971884,  8.51911035,  8.72227171,\n",
              "        9.01099987,  9.23508452,  9.6016396 ,  9.9836572 , 10.35741664,\n",
              "       10.75734841, 11.02337363, 11.31376062, 11.53465504, 11.68572776,\n",
              "       11.84542351, 12.00421066, 12.04233789, 12.14393942, 12.33261692,\n",
              "       12.5301561 , 12.69416489, 12.89815784, 13.10260467, 13.33090813,\n",
              "       13.52753941, 13.81175038, 14.08820845, 14.37325711, 14.54753988,\n",
              "       14.73829504, 14.88824684, 15.03753923, 15.15529393, 15.28103829,\n",
              "       15.39072633, 15.58911783, 15.7476553 , 15.88216684, 15.95290043,\n",
              "       16.06365906, 16.23873427, 16.38295578, 16.4719902 , 16.64804243,\n",
              "       16.8160152 , 16.96764766, 17.10370554, 17.24722943, 17.40714421,\n",
              "       17.60722932, 17.82288971, 18.01392416, 18.2126527 , 18.37181524,\n",
              "       18.49991812, 18.67557515, 18.79542321, 18.89926263, 18.96346334,\n",
              "       19.09989237, 19.22055908, 19.35713309, 19.50158672, 19.60605622,\n",
              "       19.67078692, 19.75200513, 19.89684213, 20.01771194, 20.1303559 ,\n",
              "       20.26735144, 20.40433664, 20.55761033, 20.73471076, 20.86368137,\n",
              "       20.91269157, 21.02590695, 21.1386594 , 21.22735505, 21.39643947,\n",
              "       21.62950951, 21.79075396, 21.94415366, 22.04181355, 22.09919209,\n",
              "       22.1488483 , 22.2385275 , 22.35169158, 22.48105737, 22.58621005,\n",
              "       22.65154976, 22.73274619, 22.82229968, 22.96819966, 23.08223942,\n",
              "       23.17234916, 23.28665994, 23.36132996, 23.46030729, 23.53555844,\n",
              "       23.63428049, 23.74928291, 23.86419645, 23.9790453 , 24.05406445,\n",
              "       24.16139995, 24.21299986, 24.28840507, 24.37977369, 24.49498821,\n",
              "       24.60232963, 24.72529732, 24.81630948, 24.88347073, 24.97460084,\n",
              "       25.08939732, 25.18003546, 25.27900734, 25.36173302, 25.43652861,\n",
              "       25.55102357, 25.61781092, 25.68441764, 25.73512048, 25.8255708 ,\n",
              "       25.96380625, 26.06953944, 26.15957915, 26.27394283, 26.40392288,\n",
              "       26.45401167, 26.50403679, 26.56206642, 26.62809261, 26.68611527,\n",
              "       26.78432061, 26.91481599, 27.05316585, 27.13575766, 27.23401569,\n",
              "       27.29224166, 27.3828005 , 27.46533341, 27.54793495, 27.63837194,\n",
              "       27.69707791, 27.75608062, 27.79909042, 27.84196843, 27.89293662,\n",
              "       27.96828403, 28.03562888, 28.10297636, 28.1462492 , 28.20548337,\n",
              "       28.30465687, 28.38793723, 28.47941546, 28.57071546, 28.63006093,\n",
              "       28.67334815, 28.70884909, 28.74451325, 28.84433416, 28.96797619,\n",
              "       29.06781789, 29.15148313, 29.21912363, 29.26262094, 29.30566874,\n",
              "       29.34053088, 29.36727861, 29.39411701, 29.46072482, 29.52720335,\n",
              "       29.64167683, 29.78005096, 29.87047529, 29.96881808, 30.05918719,\n",
              "       30.10940722, 30.17582767, 30.21043135, 30.2452413 , 30.29618059,\n",
              "       30.37112607, 30.45418293, 30.52145373, 30.58065187, 30.63162514,\n",
              "       30.68272242, 30.73388903, 30.77699907, 30.82812579, 30.92715197,\n",
              "       31.01819968, 31.13306112, 31.22388826, 31.2988098 , 31.37383381,\n",
              "       31.41690051, 31.46764715, 31.5261858 , 31.60056612, 31.68294534,\n",
              "       31.74942421, 31.76805446, 31.81866715, 31.84549606, 31.90419421,\n",
              "       31.96305134, 32.01390556, 32.05687338, 32.12370236, 32.19012302,\n",
              "       32.25644876, 32.31487728, 32.34130727, 32.37565951, 32.4179796 ,\n",
              "       32.4922599 , 32.58243579, 32.63268908, 32.691148  , 32.71766177])"
            ]
          },
          "metadata": {
            "tags": []
          },
          "execution_count": 20
        }
      ]
    },
    {
      "cell_type": "code",
      "metadata": {
        "id": "08chXcxCPHgO",
        "colab": {
          "base_uri": "https://localhost:8080/",
          "height": 312
        },
        "outputId": "069db8de-9427-49e0-8b23-d58649eff4d2"
      },
      "source": [
        "x=[i for i in range(1,250+1)]\n",
        "y=results_UCB[4]\n",
        "\n",
        "plt.plot(x,y,'b')\n",
        "\n",
        "plt.xlabel('Time') \n",
        "\n",
        "plt.ylabel('Cumulative Regret')   \n",
        "\n",
        "plt.title('cumulative Regret of UCB algorithm over Time') \n",
        "\n",
        "plt.legend(loc='upper right')\n",
        "\n",
        "# function to show the plot \n",
        "plt.show() "
      ],
      "execution_count": null,
      "outputs": [
        {
          "output_type": "stream",
          "text": [
            "No handles with labels found to put in legend.\n"
          ],
          "name": "stderr"
        },
        {
          "output_type": "display_data",
          "data": {
            "image/png": "[encoded data removed]",
            "text/plain": [
              "<Figure size 432x288 with 1 Axes>"
            ]
          },
          "metadata": {
            "tags": [],
            "needs_background": "light"
          }
        }
      ]
    },
    {
      "cell_type": "markdown",
      "metadata": {
        "id": "s6jt9j0v0IxO"
      },
      "source": [
        "###Executing Thompson Sampling Algorithm"
      ]
    },
    {
      "cell_type": "code",
      "metadata": {
        "id": "91bAXvH4Q5cT",
        "colab": {
          "base_uri": "https://localhost:8080/"
        },
        "outputId": "932c1af8-6f60-4471-a64d-39d9b39f8c49"
      },
      "source": [
        "algo = Thompson_sampling([], [])\n",
        "algo.initialize(number_of_arms)\n",
        "results_Thompson_sampling = test_algorithm(algo, arms, 100, 250)  #100 is no. of simulations and 250 is times the arm is pulled in one simulation\n",
        "results_Thompson_sampling[4] "
      ],
      "execution_count": null,
      "outputs": [
        {
          "output_type": "execute_result",
          "data": {
            "text/plain": [
              "array([-0.292     , -0.254     , -0.039     ,  0.157     ,  0.50816667,\n",
              "        0.87316667,  1.28433333,  1.55683333,  1.83283333,  2.04339286,\n",
              "        2.22747222,  2.37730159,  2.57535678,  2.74809848,  2.85942413,\n",
              "        2.98643448,  3.09858627,  3.23168662,  3.29710163,  3.32960698,\n",
              "        3.3733021 ,  3.43115634,  3.47764522,  3.5145252 ,  3.58100825,\n",
              "        3.64117972,  3.72424258,  3.77896129,  3.82067649,  3.88650211,\n",
              "        3.90451421,  3.93983386,  3.9837076 ,  4.00311591,  4.03820461,\n",
              "        4.05673303,  4.1007631 ,  4.12903917,  4.17455326,  4.22969479,\n",
              "        4.28474852,  4.33316783,  4.35094765,  4.39240012,  4.42495176,\n",
              "        4.44034462,  4.44726625,  4.49483003,  4.50357867,  4.5117932 ,\n",
              "        4.55128956,  4.58190974,  4.62136994,  4.64585051,  4.67140841,\n",
              "        4.67238133,  4.69716249,  4.72231416,  4.7316187 ,  4.74807491,\n",
              "        4.76492377,  4.77354781,  4.78976992,  4.79812512,  4.83807453,\n",
              "        4.8690124 ,  4.87731658,  4.88630057,  4.90263251,  4.91078337,\n",
              "        4.9185621 ,  4.91896647,  4.94418658,  4.96128352,  4.96202464,\n",
              "        4.99491695,  5.01159662,  5.04318335,  5.07365367,  5.07221203,\n",
              "        5.08721642,  5.08692208,  5.11037033,  5.12595505,  5.15777952,\n",
              "        5.15756375,  5.1814784 ,  5.19669865,  5.20454637,  5.20388172,\n",
              "        5.21122756,  5.23459719,  5.24241256,  5.25105993,  5.25944629,\n",
              "        5.29146972,  5.31603637,  5.31657436,  5.33321558,  5.3414962 ,\n",
              "        5.3580944 ,  5.3667747 ,  5.37566613,  5.376647  ,  5.39394277,\n",
              "        5.4193253 ,  5.42002458,  5.42073522,  5.42984612,  5.43133543,\n",
              "        5.43292766,  5.43450681,  5.45226697,  5.45388885,  5.45608395,\n",
              "        5.45864878,  5.46918333,  5.47168437,  5.48981279,  5.49189404,\n",
              "        5.51777837,  5.52735278,  5.53717442,  5.56272293,  5.5638017 ,\n",
              "        5.56496031,  5.58211867,  5.59933498,  5.60052587,  5.60187639,\n",
              "        5.60322419,  5.60489722,  5.61455729,  5.61619283,  5.63382317,\n",
              "        5.64351097,  5.65318204,  5.65474631,  5.66414578,  5.66590953,\n",
              "        5.67541736,  5.69290245,  5.70227456,  5.71163741,  5.72075678,\n",
              "        5.74563509,  5.74648506,  5.76331962,  5.77220819,  5.77308685,\n",
              "        5.77410535,  5.77526258,  5.78469841,  5.80212136,  5.80345737,\n",
              "        5.82092647,  5.83878341,  5.84875845,  5.85044224,  5.85178104,\n",
              "        5.8610511 ,  5.89430734,  5.89545931,  5.9128673 ,  5.92231647,\n",
              "        5.93182088,  5.94924245,  5.95877244,  5.96808982,  5.96927146,\n",
              "        5.97863578,  5.98810567,  6.00550173,  6.01475486,  6.01587429,\n",
              "        6.03323006,  6.04226422,  6.05158774,  6.05277702,  6.07001904,\n",
              "        6.08748276,  6.08881484,  6.09008488,  6.10728809,  6.11624296,\n",
              "        6.11718576,  6.12618059,  6.12722631,  6.13620686,  6.13733771,\n",
              "        6.13857004,  6.13974277,  6.14113004,  6.17444915,  6.17585076,\n",
              "        6.17746323,  6.19480169,  6.21201047,  6.22109696,  6.23017298,\n",
              "        6.24697102,  6.24780653,  6.26437419,  6.27308791,  6.27389865,\n",
              "        6.28280901,  6.28371195,  6.28466018,  6.28575889,  6.29515552,\n",
              "        6.2964911 ,  6.30552259,  6.31454909,  6.31546721,  6.31648073,\n",
              "        6.325342  ,  6.34224371,  6.35103546,  6.35196583,  6.35299042,\n",
              "        6.35410876,  6.363082  ,  6.37214017,  6.38109734,  6.38218701,\n",
              "        6.39936571,  6.4084816 ,  6.40972716,  6.41114937,  6.42028598,\n",
              "        6.42950207,  6.43847555,  6.43917016,  6.44790636,  6.44841076,\n",
              "        6.4489151 ,  6.45724294,  6.46547649,  6.46561758,  6.47380005,\n",
              "        6.4740652 ,  6.49024168,  6.49853927,  6.49878993,  6.51495332,\n",
              "        6.51518986,  6.53155315,  6.53161203,  6.53150288,  6.53131004])"
            ]
          },
          "metadata": {
            "tags": []
          },
          "execution_count": 22
        }
      ]
    },
    {
      "cell_type": "markdown",
      "metadata": {
        "id": "Z0FIQ0r2zibW"
      },
      "source": [
        "####Plotting  Thompson Sampling algorithm"
      ]
    },
    {
      "cell_type": "code",
      "metadata": {
        "id": "PucwfEDrRxwN",
        "colab": {
          "base_uri": "https://localhost:8080/",
          "height": 312
        },
        "outputId": "c87995c9-6d54-4b08-f56c-9f5d05c52c4d"
      },
      "source": [
        "\n",
        "x=[i for i in range(1,250+1)]\n",
        "y=results_Thompson_sampling[4]\n",
        "\n",
        "plt.plot(x,y,'b')\n",
        "\n",
        "plt.xlabel('Time') \n",
        "\n",
        "plt.ylabel('Cumulative Regret')   \n",
        "\n",
        "plt.title('cumulative Regret of Thompson_sampling algorithm over Time') \n",
        "\n",
        "plt.legend(loc='upper right')\n",
        "\n",
        "# function to show the plot \n",
        "plt.show() "
      ],
      "execution_count": null,
      "outputs": [
        {
          "output_type": "stream",
          "text": [
            "No handles with labels found to put in legend.\n"
          ],
          "name": "stderr"
        },
        {
          "output_type": "display_data",
          "data": {
            "image/png": "[encoded data removed]",
            "text/plain": [
              "<Figure size 432x288 with 1 Axes>"
            ]
          },
          "metadata": {
            "tags": [],
            "needs_background": "light"
          }
        }
      ]
    },
    {
      "cell_type": "markdown",
      "metadata": {
        "id": "URFLlgzhq61g"
      },
      "source": [
        "cumulative regret for e-greedy has a steeper slope than Thompson. \n",
        "We can also see that the regret minimises and converges better with Thompson.\n",
        "With Thompson the agent regrets less because it can better identify the best variant and is more likely to explore those variants that are strong performers — this makes the Thompson bandit particular well suited to more advanced use cases that may involve statistical models or neural nets in the choice of k."
      ]
    }
  ]
}